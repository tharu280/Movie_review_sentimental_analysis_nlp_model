{
 "cells": [
  {
   "cell_type": "code",
   "execution_count": 2,
   "id": "4b03ccd3-2877-4ea8-8b8f-0429e4a537b1",
   "metadata": {},
   "outputs": [
    {
     "name": "stderr",
     "output_type": "stream",
     "text": [
      "/Users/dilshantharushika/miniforge3/lib/python3.10/site-packages/scipy/__init__.py:146: UserWarning: A NumPy version >=1.16.5 and <1.23.0 is required for this version of SciPy (detected version 1.26.4\n",
      "  warnings.warn(f\"A NumPy version >={np_minversion} and <{np_maxversion}\"\n"
     ]
    }
   ],
   "source": [
    "import os \n",
    "import pandas as pd\n",
    "import tensorflow as tf\n",
    "import numpy as np\n",
    "import re\n",
    "from tensorflow.keras.layers import TextVectorization\n",
    "from tensorflow.keras.models import Sequential\n",
    "from tensorflow.keras.layers import LSTM, Dropout, Bidirectional, Dense, Embedding"
   ]
  },
  {
   "cell_type": "code",
   "execution_count": 3,
   "id": "320cbf3f-7961-48ef-9cfc-1687f1848787",
   "metadata": {},
   "outputs": [],
   "source": [
    "df= pd.read_csv('IMDB Dataset.csv')"
   ]
  },
  {
   "cell_type": "code",
   "execution_count": 4,
   "id": "48b71ecc-1bd9-4d26-9665-1465991215ce",
   "metadata": {},
   "outputs": [
    {
     "data": {
      "text/html": [
       "<div>\n",
       "<style scoped>\n",
       "    .dataframe tbody tr th:only-of-type {\n",
       "        vertical-align: middle;\n",
       "    }\n",
       "\n",
       "    .dataframe tbody tr th {\n",
       "        vertical-align: top;\n",
       "    }\n",
       "\n",
       "    .dataframe thead th {\n",
       "        text-align: right;\n",
       "    }\n",
       "</style>\n",
       "<table border=\"1\" class=\"dataframe\">\n",
       "  <thead>\n",
       "    <tr style=\"text-align: right;\">\n",
       "      <th></th>\n",
       "      <th>review</th>\n",
       "      <th>sentiment</th>\n",
       "    </tr>\n",
       "  </thead>\n",
       "  <tbody>\n",
       "    <tr>\n",
       "      <th>0</th>\n",
       "      <td>One of the other reviewers has mentioned that ...</td>\n",
       "      <td>positive</td>\n",
       "    </tr>\n",
       "    <tr>\n",
       "      <th>1</th>\n",
       "      <td>A wonderful little production. &lt;br /&gt;&lt;br /&gt;The...</td>\n",
       "      <td>positive</td>\n",
       "    </tr>\n",
       "    <tr>\n",
       "      <th>2</th>\n",
       "      <td>I thought this was a wonderful way to spend ti...</td>\n",
       "      <td>positive</td>\n",
       "    </tr>\n",
       "    <tr>\n",
       "      <th>3</th>\n",
       "      <td>Basically there's a family where a little boy ...</td>\n",
       "      <td>negative</td>\n",
       "    </tr>\n",
       "    <tr>\n",
       "      <th>4</th>\n",
       "      <td>Petter Mattei's \"Love in the Time of Money\" is...</td>\n",
       "      <td>positive</td>\n",
       "    </tr>\n",
       "  </tbody>\n",
       "</table>\n",
       "</div>"
      ],
      "text/plain": [
       "                                              review sentiment\n",
       "0  One of the other reviewers has mentioned that ...  positive\n",
       "1  A wonderful little production. <br /><br />The...  positive\n",
       "2  I thought this was a wonderful way to spend ti...  positive\n",
       "3  Basically there's a family where a little boy ...  negative\n",
       "4  Petter Mattei's \"Love in the Time of Money\" is...  positive"
      ]
     },
     "execution_count": 4,
     "metadata": {},
     "output_type": "execute_result"
    }
   ],
   "source": [
    "df.head()"
   ]
  },
  {
   "cell_type": "code",
   "execution_count": 5,
   "id": "7beb9f62-a3f7-40b2-b4e6-88b58104218a",
   "metadata": {},
   "outputs": [
    {
     "data": {
      "text/plain": [
       "array(['positive', 'negative'], dtype=object)"
      ]
     },
     "execution_count": 5,
     "metadata": {},
     "output_type": "execute_result"
    }
   ],
   "source": [
    "df['sentiment'].unique()"
   ]
  },
  {
   "cell_type": "code",
   "execution_count": 6,
   "id": "0ad88353-c235-4342-837b-b2f24762c125",
   "metadata": {},
   "outputs": [],
   "source": [
    "df.loc[df['sentiment']=='positive','sentiment']=1\n",
    "df.loc[df['sentiment']=='negative','sentiment']=0"
   ]
  },
  {
   "cell_type": "code",
   "execution_count": 7,
   "id": "bcf3666d-34a1-4235-b237-e77837b176a9",
   "metadata": {},
   "outputs": [],
   "source": [
    "df['sentiment']=df['sentiment'].astype(int)"
   ]
  },
  {
   "cell_type": "code",
   "execution_count": 8,
   "id": "b89bc74b-7aef-41c9-8868-12d1eb4ddd5d",
   "metadata": {},
   "outputs": [],
   "source": [
    "def clean_text(text):\n",
    "    text = re.sub(r'<.*?>', '', text)  \n",
    "    return text\n",
    "df['review'] = df['review'].apply(clean_text)   "
   ]
  },
  {
   "cell_type": "code",
   "execution_count": 9,
   "id": "e554daa1-6ea4-49a5-b9c1-141cdb5273f9",
   "metadata": {},
   "outputs": [
    {
     "data": {
      "text/html": [
       "<div>\n",
       "<style scoped>\n",
       "    .dataframe tbody tr th:only-of-type {\n",
       "        vertical-align: middle;\n",
       "    }\n",
       "\n",
       "    .dataframe tbody tr th {\n",
       "        vertical-align: top;\n",
       "    }\n",
       "\n",
       "    .dataframe thead th {\n",
       "        text-align: right;\n",
       "    }\n",
       "</style>\n",
       "<table border=\"1\" class=\"dataframe\">\n",
       "  <thead>\n",
       "    <tr style=\"text-align: right;\">\n",
       "      <th></th>\n",
       "      <th>review</th>\n",
       "      <th>sentiment</th>\n",
       "    </tr>\n",
       "  </thead>\n",
       "  <tbody>\n",
       "    <tr>\n",
       "      <th>0</th>\n",
       "      <td>One of the other reviewers has mentioned that ...</td>\n",
       "      <td>1</td>\n",
       "    </tr>\n",
       "    <tr>\n",
       "      <th>1</th>\n",
       "      <td>A wonderful little production. The filming tec...</td>\n",
       "      <td>1</td>\n",
       "    </tr>\n",
       "    <tr>\n",
       "      <th>2</th>\n",
       "      <td>I thought this was a wonderful way to spend ti...</td>\n",
       "      <td>1</td>\n",
       "    </tr>\n",
       "    <tr>\n",
       "      <th>3</th>\n",
       "      <td>Basically there's a family where a little boy ...</td>\n",
       "      <td>0</td>\n",
       "    </tr>\n",
       "    <tr>\n",
       "      <th>4</th>\n",
       "      <td>Petter Mattei's \"Love in the Time of Money\" is...</td>\n",
       "      <td>1</td>\n",
       "    </tr>\n",
       "  </tbody>\n",
       "</table>\n",
       "</div>"
      ],
      "text/plain": [
       "                                              review  sentiment\n",
       "0  One of the other reviewers has mentioned that ...          1\n",
       "1  A wonderful little production. The filming tec...          1\n",
       "2  I thought this was a wonderful way to spend ti...          1\n",
       "3  Basically there's a family where a little boy ...          0\n",
       "4  Petter Mattei's \"Love in the Time of Money\" is...          1"
      ]
     },
     "execution_count": 9,
     "metadata": {},
     "output_type": "execute_result"
    }
   ],
   "source": [
    "df.head()"
   ]
  },
  {
   "cell_type": "code",
   "execution_count": 10,
   "id": "81e02d8c-eddd-4043-9172-65ff763063d9",
   "metadata": {},
   "outputs": [],
   "source": [
    "X =df['review']\n",
    "y= df['sentiment']"
   ]
  },
  {
   "cell_type": "code",
   "execution_count": 11,
   "id": "4cf4ca0c-dc75-497e-bb66-e6711e479001",
   "metadata": {},
   "outputs": [
    {
     "data": {
      "text/plain": [
       "469119"
      ]
     },
     "execution_count": 11,
     "metadata": {},
     "output_type": "execute_result"
    }
   ],
   "source": [
    "len(set(\" \".join(df['review']).split()))"
   ]
  },
  {
   "cell_type": "code",
   "execution_count": 12,
   "id": "cfd9c48b-2a7a-40e0-a2fa-50f7846626ff",
   "metadata": {},
   "outputs": [],
   "source": [
    "MAX_FEATURES = 250000"
   ]
  },
  {
   "cell_type": "code",
   "execution_count": 13,
   "id": "b8fce2f5-bcfe-48d1-9a61-3ce366c48f30",
   "metadata": {},
   "outputs": [
    {
     "name": "stdout",
     "output_type": "stream",
     "text": [
      "90th Percentile of text length: 443.0\n",
      "95th Percentile of text length: 580.0\n"
     ]
    }
   ],
   "source": [
    "df['text_length'] = df['review'].apply(lambda x: len(x.split()))\n",
    "\n",
    "# Get the 90th or 95th percentile of the text lengths\n",
    "percentile_90 = np.percentile(df['text_length'], 90)\n",
    "percentile_95 = np.percentile(df['text_length'], 95)\n",
    "\n",
    "print(f\"90th Percentile of text length: {percentile_90}\")\n",
    "print(f\"95th Percentile of text length: {percentile_95}\")"
   ]
  },
  {
   "cell_type": "code",
   "execution_count": 14,
   "id": "4ac9e019-4c9f-4e57-b4f0-4bf1decc93f0",
   "metadata": {},
   "outputs": [],
   "source": [
    "OUTPUT_SEQUENCE_LENGTH = int(percentile_95) + 20 "
   ]
  },
  {
   "cell_type": "code",
   "execution_count": 15,
   "id": "ba2ffa1f-503e-491d-813f-b05d2a4db781",
   "metadata": {},
   "outputs": [],
   "source": [
    "vectorizer = TextVectorization(max_tokens=MAX_FEATURES,\n",
    "                               output_sequence_length=OUTPUT_SEQUENCE_LENGTH,\n",
    "                               output_mode='int')"
   ]
  },
  {
   "cell_type": "code",
   "execution_count": 16,
   "id": "a738e373-c62e-43c0-b88a-89cd6495627e",
   "metadata": {},
   "outputs": [],
   "source": [
    "vectorizer.adapt(X.values)"
   ]
  },
  {
   "cell_type": "code",
   "execution_count": 17,
   "id": "6c5f54af-94d2-4907-a2ea-63bf084d19a7",
   "metadata": {},
   "outputs": [],
   "source": [
    "vectorized_text = vectorizer(X.values)"
   ]
  },
  {
   "cell_type": "code",
   "execution_count": 18,
   "id": "096deb67-a9f0-45c2-b632-35eb1ea8022a",
   "metadata": {},
   "outputs": [],
   "source": [
    "dataset = tf.data.Dataset.from_tensor_slices((vectorized_text, y))\n",
    "dataset = dataset.cache()\n",
    "dataset = dataset.shuffle(buffer_size=160000) \n",
    "dataset = dataset.batch(16) \n",
    "dataset = dataset.prefetch(buffer_size=tf.data.experimental.AUTOTUNE)"
   ]
  },
  {
   "cell_type": "code",
   "execution_count": 19,
   "id": "97fc65dd-8a46-4f57-a575-f6de61583096",
   "metadata": {},
   "outputs": [],
   "source": [
    "train = dataset.take(int(len(dataset)*.7))\n",
    "val = dataset.skip(int(len(dataset)*.7)).take(int(len(dataset)*.2))\n",
    "test = dataset.skip(int(len(dataset)*.9)).take(int(len(dataset)*.1))"
   ]
  },
  {
   "cell_type": "code",
   "execution_count": 20,
   "id": "0a98619c-d349-4dfe-a9ae-a3f2cadb2892",
   "metadata": {},
   "outputs": [
    {
     "name": "stdout",
     "output_type": "stream",
     "text": [
      "Model: \"sequential\"\n",
      "_________________________________________________________________\n",
      " Layer (type)                Output Shape              Param #   \n",
      "=================================================================\n",
      " embedding (Embedding)       (None, 600, 32)           8000032   \n",
      "                                                                 \n",
      " bidirectional (Bidirection  (None, 128)               49664     \n",
      " al)                                                             \n",
      "                                                                 \n",
      " dense (Dense)               (None, 64)                8256      \n",
      "                                                                 \n",
      " dense_1 (Dense)             (None, 32)                2080      \n",
      "                                                                 \n",
      " dense_2 (Dense)             (None, 1)                 33        \n",
      "                                                                 \n",
      "=================================================================\n",
      "Total params: 8060065 (30.75 MB)\n",
      "Trainable params: 8060065 (30.75 MB)\n",
      "Non-trainable params: 0 (0.00 Byte)\n",
      "_________________________________________________________________\n"
     ]
    }
   ],
   "source": [
    "model = Sequential()\n",
    "\n",
    "model.add(Embedding(input_dim=MAX_FEATURES+1, output_dim=32, input_length=OUTPUT_SEQUENCE_LENGTH))\n",
    "\n",
    "model.add(Bidirectional(LSTM(units=64, activation='tanh', return_sequences=False)))\n",
    "\n",
    "model.add(Dense(units=64, activation='relu'))\n",
    "model.add(Dense(units=32, activation='relu'))\n",
    "\n",
    "model.add(Dense(units=1, activation='sigmoid'))\n",
    "\n",
    "model.compile(\n",
    "    optimizer=tf.keras.optimizers.legacy.Adam(learning_rate=0.0002),  \n",
    "    loss='binary_crossentropy',  \n",
    "    metrics=['accuracy']        \n",
    ")\n",
    "\n",
    "\n",
    "model.summary()"
   ]
  },
  {
   "cell_type": "code",
   "execution_count": 21,
   "id": "d0bf62c0-4175-497d-be52-b534b335fbd6",
   "metadata": {},
   "outputs": [
    {
     "name": "stdout",
     "output_type": "stream",
     "text": [
      "Epoch 1/5\n",
      "2187/2187 [==============================] - 376s 171ms/step - loss: 0.4313 - accuracy: 0.7825 - val_loss: 0.2360 - val_accuracy: 0.9109\n",
      "Epoch 2/5\n",
      "2187/2187 [==============================] - 380s 174ms/step - loss: 0.2192 - accuracy: 0.9190 - val_loss: 0.1520 - val_accuracy: 0.9497\n",
      "Epoch 3/5\n",
      "2187/2187 [==============================] - 381s 174ms/step - loss: 0.1779 - accuracy: 0.9365 - val_loss: 0.1147 - val_accuracy: 0.9628\n",
      "Epoch 4/5\n",
      "2187/2187 [==============================] - 377s 172ms/step - loss: 0.1221 - accuracy: 0.9591 - val_loss: 0.0702 - val_accuracy: 0.9798\n",
      "Epoch 5/5\n",
      "2187/2187 [==============================] - 382s 175ms/step - loss: 0.0954 - accuracy: 0.9685 - val_loss: 0.0713 - val_accuracy: 0.9792\n",
      "312/312 [==============================] - 10s 31ms/step - loss: 0.0675 - accuracy: 0.9786\n",
      "Test Accuracy: 97.86%\n"
     ]
    }
   ],
   "source": [
    "history = model.fit(train, validation_data=val, epochs=5)\n",
    "\n",
    "\n",
    "test_loss, test_accuracy = model.evaluate(test)\n",
    "print(f\"Test Accuracy: {test_accuracy * 100:.2f}%\")"
   ]
  },
  {
   "cell_type": "code",
   "execution_count": 24,
   "id": "f8bda77e-6cb5-4a43-8177-5d3b6b08024c",
   "metadata": {},
   "outputs": [
    {
     "data": {
      "image/png": "[encoded data removed]",
      "text/plain": [
       "<Figure size 640x480 with 1 Axes>"
      ]
     },
     "metadata": {},
     "output_type": "display_data"
    },
    {
     "data": {
      "image/png": "[encoded data removed]",
      "text/plain": [
       "<Figure size 640x480 with 1 Axes>"
      ]
     },
     "metadata": {},
     "output_type": "display_data"
    }
   ],
   "source": [
    "import matplotlib.pyplot as plt\n",
    "\n",
    "\n",
    "plt.plot(history.history['accuracy'], label='Train Accuracy')\n",
    "plt.plot(history.history['val_accuracy'], label='Validation Accuracy')\n",
    "plt.title('Model Accuracy')\n",
    "plt.xlabel('Epoch')\n",
    "plt.ylabel('Accuracy')\n",
    "plt.legend(loc='upper left')\n",
    "plt.show()\n",
    "\n",
    "\n",
    "plt.plot(history.history['loss'], label='Train Loss')\n",
    "plt.plot(history.history['val_loss'], label='Validation Loss')\n",
    "plt.title('Model Loss')\n",
    "plt.xlabel('Epoch')\n",
    "plt.ylabel('Loss')\n",
    "plt.legend(loc='upper left')\n",
    "plt.show()\n"
   ]
  },
  {
   "cell_type": "code",
   "execution_count": 26,
   "id": "e3c002c0-fdeb-4b2d-9e90-bd1ba7670fd8",
   "metadata": {},
   "outputs": [
    {
     "name": "stdout",
     "output_type": "stream",
     "text": [
      "312/312 [==============================] - 10s 31ms/step - loss: 0.0625 - accuracy: 0.9824\n",
      "Test Accuracy: 98.24%\n"
     ]
    }
   ],
   "source": [
    "test_loss, test_accuracy = model.evaluate(test)\n",
    "print(f\"Test Accuracy: {test_accuracy * 100:.2f}%\")\n"
   ]
  },
  {
   "cell_type": "code",
   "execution_count": 28,
   "id": "7e4aa07b-d791-4b77-b3a7-d4e7baebcbaf",
   "metadata": {},
   "outputs": [],
   "source": [
    "model.save('movie_review_classifier.keras')\n"
   ]
  },
  {
   "cell_type": "code",
   "execution_count": 30,
   "id": "23b7c692-a744-44b7-acdc-4b4e6373c2a0",
   "metadata": {},
   "outputs": [
    {
     "name": "stdout",
     "output_type": "stream",
     "text": [
      "1/1 [==============================] - 0s 35ms/step\n",
      "Review: This was the best movie I've ever seen! - Predicted Sentiment: Positive (73.22%)\n",
      "Review: The plot was boring and predictable. - Predicted Sentiment: Negative (2.29%)\n"
     ]
    }
   ],
   "source": [
    "sample_reviews = [\"This was the best movie I've ever seen!\", \"The plot was boring and predictable.\"]\n",
    "predictions = model.predict(vectorizer(sample_reviews))\n",
    "\n",
    "for review, pred in zip(sample_reviews, predictions):\n",
    "    sentiment = \"Positive\" if pred > 0.5 else \"Negative\"\n",
    "    print(f\"Review: {review} - Predicted Sentiment: {sentiment} ({pred[0] * 100:.2f}%)\")\n"
   ]
  },
  {
   "cell_type": "code",
   "execution_count": null,
   "id": "725eeb43-6172-4b3a-9994-663aa33ac257",
   "metadata": {},
   "outputs": [],
   "source": []
  }
 ],
 "metadata": {
  "kernelspec": {
   "display_name": "Python 3 (ipykernel)",
   "language": "python",
   "name": "python3"
  },
  "language_info": {
   "codemirror_mode": {
    "name": "ipython",
    "version": 3
   },
   "file_extension": ".py",
   "mimetype": "text/x-python",
   "name": "python",
   "nbconvert_exporter": "python",
   "pygments_lexer": "ipython3",
   "version": "3.10.9"
  }
 },
 "nbformat": 4,
 "nbformat_minor": 5
}
